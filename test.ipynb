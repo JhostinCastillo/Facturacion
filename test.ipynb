{
 "cells": [
  {
   "cell_type": "code",
   "execution_count": 23,
   "metadata": {},
   "outputs": [],
   "source": [
    "from reportlab.lib.pagesizes import A4\n",
    "from reportlab.pdfgen import canvas\n",
    "from reportlab.lib import colors\n",
    "\n",
    "# Crear un documento PDF\n",
    "def crear_pdf():\n",
    "    # Crear el lienzo para el PDF\n",
    "    c = canvas.Canvas(\"texto_italica_verde.pdf\", pagesize=A4)\n",
    "\n",
    "    # Ajustar el tamaño de la página\n",
    "    width, height = A4\n",
    "\n",
    "    # Definir el color verde\n",
    "    c.setFillColorRGB(114/255, 178/255, 45/255)\n",
    "    \n",
    "    # Definir la fuente en cursiva\n",
    "    c.setFont(\"Helvetica-Oblique\", 12)\n",
    "\n",
    "    # Agregar texto al PDF\n",
    "    c.drawString(100, height - 100, \"Este es un texto en cursiva y color verde\")\n",
    "\n",
    "    # Guardar el PDF\n",
    "    c.save()\n",
    "\n",
    "crear_pdf()\n",
    "\n"
   ]
  }
 ],
 "metadata": {
  "kernelspec": {
   "display_name": "Python 3",
   "language": "python",
   "name": "python3"
  },
  "language_info": {
   "codemirror_mode": {
    "name": "ipython",
    "version": 3
   },
   "file_extension": ".py",
   "mimetype": "text/x-python",
   "name": "python",
   "nbconvert_exporter": "python",
   "pygments_lexer": "ipython3",
   "version": "3.11.4"
  }
 },
 "nbformat": 4,
 "nbformat_minor": 2
}
